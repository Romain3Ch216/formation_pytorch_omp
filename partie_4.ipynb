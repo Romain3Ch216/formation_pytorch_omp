{
 "cells": [
  {
   "cell_type": "markdown",
   "metadata": {},
   "source": [
    "# Formation PyTorch : les bases pour être autonome \n",
    "#### 19 avril 2023 de 9h à 17h à l'OMP (salle Coriolis)"
   ]
  },
  {
   "cell_type": "markdown",
   "metadata": {},
   "source": [
    "# Partie 4\n",
    "## Modélisation probabiliste avec PyTorch"
   ]
  },
  {
   "cell_type": "markdown",
   "metadata": {},
   "source": [
    "Dans cette dernière partie, nous allons nous initier à la modélisation probabiliste avec PyTorch avec un exemple de régression linéaire bayésienne. "
   ]
  },
  {
   "cell_type": "code",
   "execution_count": 2,
   "metadata": {},
   "outputs": [],
   "source": [
    "import torch\n",
    "import torch.nn as nn\n",
    "import torch.nn.functional as F\n",
    "from torch.nn.parameter import Parameter\n",
    "import matplotlib.pyplot as plt"
   ]
  },
  {
   "cell_type": "code",
   "execution_count": 3,
   "metadata": {},
   "outputs": [
    {
     "data": {
      "image/png": "[encoded data removed]",
      "text/plain": [
       "<Figure size 432x288 with 1 Axes>"
      ]
     },
     "metadata": {
      "needs_background": "light"
     },
     "output_type": "display_data"
    }
   ],
   "source": [
    "X = torch.linspace(0, 10, 100).unsqueeze(1)\n",
    "Y = 2.5 + 3*X + 3*torch.randn((100,1))\n",
    "\n",
    "fig = plt.figure()\n",
    "plt.scatter(X, Y)\n",
    "plt.show()"
   ]
  },
  {
   "cell_type": "markdown",
   "metadata": {},
   "source": [
    "Plutôt que de calculer le maximum de vraisemblance $w^\\ast$ des paramètres du modèle linéaire (régression linéaire classique), l'objectif d'une régression linéaire bayésienne est de calculer la distribution des paramètres du modèle linéaire. On modélise la vraisemblance des données $p(y \\vert x, w)$ et l'a priori sur les paramètres du modèle $p(w)$ ainsi :\n",
    "\n",
    "$$p(y \\vert x, w) = \\mathcal{N}(y \\vert x^T w_1 + w_0, \\sigma)$$\n",
    "$$p(w) = \\mathcal{N}(w \\vert \\mu_\\circ, \\sigma_\\circ)$$\n",
    "\n",
    "Dans le cas présent, on pourrait utiliser la loi de Bayes pour calculer analytiquement la distribution a posteriori $p(w \\vert x, y)$. Néanmoins, pour des problèmes non linéaires, il n'y a souvent pas de solutions analytiques. \n",
    "\n",
    "Ici, on propose d'implémenter avec PyTorch une approche variationnelle (https://en.wikipedia.org/wiki/Variational_Bayesian_methods) qui consiste à approximer la distribution a posteriori par une distribution $q_\\phi(w)$ paramétrée par $\\phi$. Dans notre cas, $\\phi = [\\mu(w_0), \\sigma(w_0), \\mu(w_1), \\sigma(w_1)]$, les moyennes et les écarts-types de l'ordonnée à l'origine et du coefficient directeur.\n",
    "\n",
    "La fonction objective est une borne supérieure de la log-vraisemblance négative -log $p(x,y)$ : \n",
    "$$\\mathcal{L}(x,y) = - \\mathbb{E}_{q_\\phi(w)} \\big[\\mbox{log} \\: p(y \\vert x, w)\\big] + D_{KL}\\big(q_\\phi(w) \\vert\\vert p(w)\\big)$$\n",
    "\n",
    "où $D_{KL}$ désigne la divergence de Kullback-Leibler (https://fr.wikipedia.org/wiki/Divergence_de_Kullback-Leibler), que l'on peut calculer avec PyTorch (https://pytorch.org/docs/stable/distributions.html?highlight=torch+distributions+kl#module-torch.distributions.kl).\n",
    "\n",
    "Comme la vraisemblance est gaussienne, minimiser le terme - log $p(y \\vert x, w)$ revient à minismer l'erreur au carré entre les vrais $y_i$ et les $\\hat{y}_i$ prédits. \n",
    "\n",
    "Par ailleurs, on approxime l'espérance $\\mathbb{E}_{q_\\phi(w)}$ avec des échantillons de Monte Carlo comme suit : \n",
    "$$ \\mathbb{E}_{q_\\phi(w)} \\big[\\mbox{log} \\: p(y \\vert x, w)\\big] \\approx \\frac{1}{K} \\sum_k \\mbox{log} \\: p(y \\vert x, w^k)$$\n",
    "où $w^k \\sim q_\\phi(w)$. En pratique, on prend $K=1$.\n",
    "\n",
    "Ainsi, le modèle linéaire Bayésien est stochastique. Pour efficacement rétro-propager des gradients à travers des couches stochastiques, on va utiliser le \"reparametrization trick\" introduit dans [1]. Au lieu d'échantillonner $w^k$ à partir de $q_\\phi(w)$, on échantillonne un bruit $\\epsilon^k$ indépendant de $\\phi$:\n",
    "\n",
    "$$\\epsilon^k \\sim \\mathcal{N}(0,1)$$\n",
    "$$w^k = \\mu(w) + \\epsilon^k \\cdot \\sigma(w)$$\n",
    "\n",
    "[1] Kingma, D. P., & Welling, M. (2013). Auto-encoding variational bayes. arXiv preprint arXiv:1312.6114."
   ]
  },
  {
   "cell_type": "code",
   "execution_count": 4,
   "metadata": {},
   "outputs": [],
   "source": [
    "class BayesianLinearModel(torch.nn.Module):\n",
    "    def __init__(self, x_dim):\n",
    "        super(BayesianLinearModel, self).__init__()\n",
    "        self.x_dim = x_dim\n",
    "        self.mu = Parameter(torch.randn(2,1), requires_grad=True)\n",
    "        self.logvar = Parameter(torch.rand(2,1), requires_grad=True)\n",
    "        \n",
    "    def IP(self, level=0.95):\n",
    "        posterior = torch.distributions.normal.Normal(self.mu, torch.exp(self.logvar/2))\n",
    "        low = posterior.icdf(torch.ones_like(self.mu)*(1-level)/2)\n",
    "        high = posterior.icdf(torch.ones_like(self.mu)*(level+(1-level)/2))\n",
    "        return low, high\n",
    "        \n",
    "    def forward(self, x):\n",
    "        mu = self.mu\n",
    "        std = torch.exp(self.logvar/2)\n",
    "        normal = torch.distributions.normal.Normal(0, 1)\n",
    "        w = mu + std*normal.sample()\n",
    "        out = torch.mm(x, w[0,:].unsqueeze(1)) + w[1,:].unsqueeze(1)\n",
    "        return out"
   ]
  },
  {
   "cell_type": "code",
   "execution_count": 5,
   "metadata": {},
   "outputs": [
    {
     "name": "stdout",
     "output_type": "stream",
     "text": [
      "=== Epoch 0 ===  \n",
      "MSE: 785.501\n",
      "=== Epoch 1 ===  \n",
      "MSE: 271.538\n",
      "=== Epoch 2 ===  \n",
      "MSE: 25.252\n",
      "=== Epoch 3 ===  \n",
      "MSE: 73.371\n",
      "=== Epoch 4 ===  \n",
      "MSE: 8.519\n",
      "=== Epoch 5 ===  \n",
      "MSE: 27.835\n",
      "=== Epoch 6 ===  \n",
      "MSE: 8.010\n",
      "=== Epoch 7 ===  \n",
      "MSE: 111.636\n",
      "=== Epoch 8 ===  \n",
      "MSE: 33.088\n",
      "=== Epoch 9 ===  \n",
      "MSE: 115.769\n",
      "=== Epoch 10 ===  \n",
      "MSE: 125.477\n",
      "=== Epoch 11 ===  \n",
      "MSE: 19.862\n",
      "=== Epoch 12 ===  \n",
      "MSE: 7.352\n",
      "=== Epoch 13 ===  \n",
      "MSE: 26.359\n",
      "=== Epoch 14 ===  \n",
      "MSE: 9.244\n",
      "=== Epoch 15 ===  \n",
      "MSE: 9.447\n",
      "=== Epoch 16 ===  \n",
      "MSE: 10.429\n",
      "=== Epoch 17 ===  \n",
      "MSE: 8.118\n",
      "=== Epoch 18 ===  \n",
      "MSE: 15.788\n",
      "=== Epoch 19 ===  \n",
      "MSE: 8.984\n"
     ]
    },
    {
     "name": "stderr",
     "output_type": "stream",
     "text": [
      "/home/rothor/miniconda3/envs/ml/lib/python3.8/site-packages/torch/autograd/__init__.py:154: UserWarning: CUDA initialization: CUDA unknown error - this may be due to an incorrectly set up environment, e.g. changing env variable CUDA_VISIBLE_DEVICES after program start. Setting the available devices to be zero. (Triggered internally at  ../c10/cuda/CUDAFunctions.cpp:112.)\n",
      "  Variable._execution_engine.run_backward(\n"
     ]
    }
   ],
   "source": [
    "model = BayesianLinearModel(X.shape[1])\n",
    "prior = torch.distributions.normal.Normal(torch.zeros(2,1), 4*torch.ones(2,1))\n",
    "optimizer = torch.optim.SGD(model.parameters(), lr=1e-2)\n",
    "beta = 1e-3\n",
    "\n",
    "for epoch in range(20):\n",
    "    y_pred = model(X)\n",
    "    mse = F.mse_loss(Y, y_pred)\n",
    "    posterior = torch.distributions.normal.Normal(model.mu, torch.exp(model.logvar/2))\n",
    "    kld = torch.distributions.kl.kl_divergence(posterior, prior).sum()\n",
    "    loss = mse + beta*kld\n",
    "    loss.backward()\n",
    "    optimizer.step()\n",
    "    optimizer.zero_grad()\n",
    "    print(f'=== Epoch {epoch} ===  ')\n",
    "    print(f'MSE: {mse.item():.3f}')"
   ]
  },
  {
   "cell_type": "code",
   "execution_count": 7,
   "metadata": {},
   "outputs": [
    {
     "data": {
      "image/png": "[encoded data removed]",
      "text/plain": [
       "<Figure size 432x288 with 1 Axes>"
      ]
     },
     "metadata": {
      "needs_background": "light"
     },
     "output_type": "display_data"
    }
   ],
   "source": [
    "low_w, high_w = model.IP()\n",
    "\n",
    "with torch.no_grad():\n",
    "    y_mean = torch.mm(X, model.mu[0,:].unsqueeze(1)) + model.mu[1,:].unsqueeze(1)\n",
    "    y_low = torch.mm(X, low_w[0,:].unsqueeze(1)) + low_w[1,:].unsqueeze(1)\n",
    "    y_high = torch.mm(X, high_w[0,:].unsqueeze(1)) + high_w[1,:].unsqueeze(1)\n",
    "    \n",
    "fig = plt.figure()\n",
    "plt.scatter(X, Y)\n",
    "plt.plot(X, y_mean, color='red')\n",
    "plt.fill_between(X.view(-1), y_low.view(-1), y_high.view(-1), alpha=0.3)\n",
    "plt.show()"
   ]
  }
 ],
 "metadata": {
  "kernelspec": {
   "display_name": "Python 3",
   "language": "python",
   "name": "python3"
  },
  "language_info": {
   "codemirror_mode": {
    "name": "ipython",
    "version": 3
   },
   "file_extension": ".py",
   "mimetype": "text/x-python",
   "name": "python",
   "nbconvert_exporter": "python",
   "pygments_lexer": "ipython3",
   "version": "3.8.5"
  }
 },
 "nbformat": 4,
 "nbformat_minor": 4
}
